{
 "cells": [
  {
   "cell_type": "code",
   "execution_count": 1,
   "metadata": {},
   "outputs": [],
   "source": [
    "import numpy as np\n",
    "import pandas as pd\n",
    "import matplotlib.pyplot as plt\n",
    "from scipy.optimize import curve_fit"
   ]
  },
  {
   "cell_type": "code",
   "execution_count": 2,
   "metadata": {},
   "outputs": [],
   "source": [
    "%matplotlib qt"
   ]
  },
  {
   "cell_type": "code",
   "execution_count": 3,
   "metadata": {},
   "outputs": [],
   "source": [
    "data = pd.read_excel('3.4.5.xlsx', sheet_name='Fe-Si')\n",
    "names = list(data)\n",
    "\n",
    "H = data[names[2]]\n",
    "B = data[names[3]]\n",
    "\n",
    "fig, ax = plt.subplots(figsize=(10, 6), dpi=100)\n",
    "\n",
    "ax.plot(H, B, label='$B(H)$', marker='.')\n",
    "\n",
    "\n",
    "ax.legend(loc='upper left', fontsize=10)\n",
    "\n",
    "ax.grid(which=\"major\", linewidth=0.5)\n",
    "ax.grid(which=\"minor\", linestyle='--', linewidth=0.25)\n",
    "plt.minorticks_on()\n",
    "\n",
    "ax.axis([0, 600, 0, 1.5])\n",
    "\n",
    "ax.set_title(r\"Начальная кривая намагничивания для кремнистого железа\", loc='center', fontsize=15)\n",
    "ax.set_xlabel(r\"$H,\\; А/м$\", loc='center', fontsize=10)\n",
    "ax.set_ylabel(r\"$B,\\; Тл$\", loc='center', fontsize=10)\n",
    "\n",
    "plt.show()\n",
    "\n",
    "fig.savefig(\"3.4.5_1.png\", dpi=500)"
   ]
  },
  {
   "cell_type": "code",
   "execution_count": 4,
   "metadata": {},
   "outputs": [],
   "source": [
    "data = pd.read_excel('3.4.5.xlsx', sheet_name='Perm')\n",
    "names = list(data)\n",
    "\n",
    "H = data[names[2]]\n",
    "B = data[names[3]]\n",
    "\n",
    "fig, ax = plt.subplots(figsize=(10, 6), dpi=100)\n",
    "\n",
    "ax.plot(H, B, label='$B(H)$', marker='.')\n",
    "\n",
    "\n",
    "ax.legend(loc='upper left', fontsize=10)\n",
    "\n",
    "ax.grid(which=\"major\", linewidth=0.5)\n",
    "ax.grid(which=\"minor\", linestyle='--', linewidth=0.25)\n",
    "plt.minorticks_on()\n",
    "\n",
    "ax.axis([0, 50, 0, 2])\n",
    "\n",
    "ax.set_title(r\"Начальная кривая намагничивания для пермаллоя\", loc='center', fontsize=15)\n",
    "ax.set_xlabel(r\"$H,\\; А/м$\", loc='center', fontsize=10)\n",
    "ax.set_ylabel(r\"$B,\\; Тл$\", loc='center', fontsize=10)\n",
    "\n",
    "plt.show()\n",
    "\n",
    "fig.savefig(\"3.4.5_2.png\", dpi=500)"
   ]
  },
  {
   "cell_type": "code",
   "execution_count": 5,
   "metadata": {},
   "outputs": [],
   "source": [
    "data = pd.read_excel('3.4.5.xlsx', sheet_name='Ferrit')\n",
    "names = list(data)\n",
    "\n",
    "H = data[names[2]]\n",
    "B = data[names[3]]\n",
    "\n",
    "fig, ax = plt.subplots(figsize=(10, 6), dpi=100)\n",
    "\n",
    "ax.plot(H, B, label='$B(H)$', marker='.')\n",
    "\n",
    "\n",
    "ax.legend(loc='upper left', fontsize=10)\n",
    "\n",
    "ax.grid(which=\"major\", linewidth=0.5)\n",
    "ax.grid(which=\"minor\", linestyle='--', linewidth=0.25)\n",
    "plt.minorticks_on()\n",
    "\n",
    "ax.axis([0, 50, 0, 0.2])\n",
    "\n",
    "ax.set_title(r\"Начальная кривая намагничивания для феррита\", loc='center', fontsize=15)\n",
    "ax.set_xlabel(r\"$H,\\; А/м$\", loc='center', fontsize=10)\n",
    "ax.set_ylabel(r\"$B,\\; Тл$\", loc='center', fontsize=10)\n",
    "\n",
    "plt.show()\n",
    "\n",
    "fig.savefig(\"3.4.5_3.png\", dpi=500)"
   ]
  },
  {
   "cell_type": "code",
   "execution_count": 6,
   "metadata": {},
   "outputs": [
    {
     "name": "stdout",
     "output_type": "stream",
     "text": [
      "[7.40740741e-03 5.39719283e-17]\n",
      "[ 0.01518519 -0.038     ]\n"
     ]
    }
   ],
   "source": [
    "print(np.polyfit(H[-1:-3:-1], B[-1:-3:-1], 1))\n",
    "print(np.polyfit(np.array(H[-1:-3:-1]), np.array(B[-1:-3:-1]) + np.array([-0.003, 0.004]), 1))\n"
   ]
  }
 ],
 "metadata": {
  "kernelspec": {
   "display_name": "Python 3.9.13 ('base')",
   "language": "python",
   "name": "python3"
  },
  "language_info": {
   "codemirror_mode": {
    "name": "ipython",
    "version": 3
   },
   "file_extension": ".py",
   "mimetype": "text/x-python",
   "name": "python",
   "nbconvert_exporter": "python",
   "pygments_lexer": "ipython3",
   "version": "3.9.13"
  },
  "orig_nbformat": 4,
  "vscode": {
   "interpreter": {
    "hash": "e4cce46d6be9934fbd27f9ca0432556941ea5bdf741d4f4d64c6cd7f8dfa8fba"
   }
  }
 },
 "nbformat": 4,
 "nbformat_minor": 2
}
