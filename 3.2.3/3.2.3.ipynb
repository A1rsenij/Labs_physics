{
 "cells": [
  {
   "cell_type": "code",
   "execution_count": 3,
   "metadata": {},
   "outputs": [],
   "source": [
    "import numpy as np\n",
    "import pandas as pd\n",
    "import matplotlib.pyplot as plt\n",
    "from scipy.optimize import curve_fit"
   ]
  },
  {
   "cell_type": "code",
   "execution_count": 4,
   "metadata": {},
   "outputs": [],
   "source": [
    "%matplotlib qt"
   ]
  },
  {
   "cell_type": "code",
   "execution_count": 5,
   "metadata": {},
   "outputs": [],
   "source": [
    "data = pd.read_excel('3.2.3.xlsx', sheet_name='АЧХ1')\n",
    "names = list(data)\n",
    "data = data.sort_values(by=names[0])\n",
    "\n",
    "nu1 = data[names[0]]\n",
    "u1 = data[names[2]]\n",
    "\n",
    "data = pd.read_excel('3.2.3.xlsx', sheet_name='АЧХ7')\n",
    "names = list(data)\n",
    "data = data.sort_values(by=names[0])\n",
    "\n",
    "nu7 = data[names[0]]\n",
    "u7 = data[names[2]]\n",
    "\n",
    "fig, ax = plt.subplots(figsize=(10, 6), dpi=100)\n",
    "\n",
    "ax.plot(nu1, u1, label='$C_1$', marker='.')\n",
    "ax.plot(nu7, u7, label='$C_7$', marker='.')\n",
    "\n",
    "ax.legend(loc='upper left', fontsize=10)\n",
    "\n",
    "ax.grid(which=\"major\", linewidth=0.5)\n",
    "ax.grid(which=\"minor\", linestyle='--', linewidth=0.25)\n",
    "plt.minorticks_on()\n",
    "\n",
    "ax.axis([15, 34, 0, 1.5])\n",
    "\n",
    "ax.set_title(r\"Амплитудно-частотные характеристики $U(\\nu)$\", loc='center', fontsize=15)\n",
    "ax.set_xlabel(r\"$\\nu,\\, кГц$\", loc='center', fontsize=10)\n",
    "ax.set_ylabel(r\"$U,\\, В$\", loc='center', fontsize=10)\n",
    "\n",
    "plt.show()\n",
    "\n",
    "fig.savefig(\"3.2.3_1.png\", dpi=500)"
   ]
  },
  {
   "cell_type": "code",
   "execution_count": 6,
   "metadata": {},
   "outputs": [],
   "source": [
    "data = pd.read_excel('3.2.3.xlsx', sheet_name='Резонансы')\n",
    "names = list(data)\n",
    "nu01 = data[names[1]][0]\n",
    "nu07 = data[names[1]][6]\n",
    "u01 = data[names[3]][0]\n",
    "u07 = data[names[3]][6]"
   ]
  },
  {
   "cell_type": "code",
   "execution_count": 7,
   "metadata": {},
   "outputs": [],
   "source": [
    "x1 = nu1/nu01\n",
    "x7 = nu7/nu07\n",
    "y1 = u1/u01\n",
    "y7 = u7/u07\n",
    "\n",
    "fig, ax = plt.subplots(figsize=(10, 6), dpi=100)\n",
    "\n",
    "ax.plot(x1, y1, label='$C_1$', marker='.')\n",
    "ax.plot(x7, y7, label='$C_7$', marker='.')\n",
    "ax.hlines(y=0.7, xmin=0.9, xmax=1.1, color='r', linestyle='--')\n",
    "\n",
    "ax.legend(loc='upper left', fontsize=10)\n",
    "\n",
    "ax.grid(which=\"major\", linewidth=0.5)\n",
    "ax.grid(which=\"minor\", linestyle='--', linewidth=0.25)\n",
    "plt.minorticks_on()\n",
    "\n",
    "ax.axis([0.9, 1.1, 0.5, 1.1])\n",
    "\n",
    "ax.set_title(r\"Амплитудно-частотные характеристики $U(\\nu)$ в безразмерных координатах\", loc='center', fontsize=15)\n",
    "ax.set_xlabel(r\"$\\frac{\\nu}{\\nu_0}$\", loc='center', fontsize=10)\n",
    "ax.set_ylabel(r\"$\\frac{U}{U_0}$\", loc='center', fontsize=10)\n",
    "\n",
    "plt.show()\n",
    "\n",
    "fig.savefig(\"3.2.3_2.png\", dpi=500)"
   ]
  },
  {
   "cell_type": "code",
   "execution_count": 8,
   "metadata": {},
   "outputs": [],
   "source": [
    "data = pd.read_excel('3.2.3.xlsx', sheet_name='ФЧХ1')\n",
    "names = list(data)\n",
    "\n",
    "nuf1 = data[names[0]]\n",
    "xf1 = nuf1 / nu01\n",
    "phi1 = data[names[9]]\n",
    "yf1 = phi1\n",
    "dyf1 = np.abs(data[names[10]])\n",
    "\n",
    "data = pd.read_excel('3.2.3.xlsx', sheet_name='ФЧХ7')\n",
    "names = list(data)\n",
    "\n",
    "nuf7 = data[names[0]]\n",
    "xf7 = nuf7 / nu07\n",
    "phi7 = data[names[9]]\n",
    "yf7 = phi7\n",
    "dyf7 = np.abs(data[names[10]])"
   ]
  },
  {
   "cell_type": "code",
   "execution_count": 9,
   "metadata": {},
   "outputs": [],
   "source": [
    "fig, ax = plt.subplots(figsize=(10, 6), dpi=100)\n",
    "\n",
    "ax.errorbar(xf1, yf1, yerr=dyf1, label='$C_1$', marker='.')\n",
    "ax.errorbar(xf7, yf7, yerr=dyf7, label='$C_7$', marker='.')\n",
    "ax.hlines(y=-0.25, xmin=0.85, xmax=1.15, color='r', linestyle='--')\n",
    "ax.hlines(y=0.25, xmin=0.85, xmax=1.15, color='r', linestyle='--')\n",
    "\n",
    "ax.legend(loc='upper left', fontsize=10)\n",
    "\n",
    "ax.grid(which=\"major\", linewidth=0.5)\n",
    "ax.grid(which=\"minor\", linestyle='--', linewidth=0.25)\n",
    "plt.minorticks_on()\n",
    "\n",
    "ax.axis([0.85, 1.15, -0.3, 0.5])\n",
    "\n",
    "ax.set_title(r\"Фазово-частотные характеристики $\\psi_U(\\nu)$ в безразмерных координатах\", loc='center', fontsize=15)\n",
    "ax.set_xlabel(r\"$\\frac{\\nu}{\\nu_0}$\", loc='center', fontsize=10)\n",
    "ax.set_ylabel(r\"$\\frac{\\psi_U}{\\pi}$\", loc='center', fontsize=10)\n",
    "\n",
    "plt.show()\n",
    "\n",
    "fig.savefig(\"3.2.3_3.png\", dpi=500)"
   ]
  },
  {
   "cell_type": "code",
   "execution_count": 10,
   "metadata": {},
   "outputs": [
    {
     "name": "stdout",
     "output_type": "stream",
     "text": [
      " \n",
      "11.54 x - 11.5 \n",
      " 18.1307853658333\n",
      " \n",
      "8.766 x - 8.729 \n",
      " 13.769705589641758\n",
      " \n",
      "14.32 x - 14.27 \n",
      " 22.49186514202484\n",
      "==============================\n",
      " \n",
      "8.62 x - 8.642 \n",
      " 13.539756884414047\n",
      " \n",
      "6.211 x - 6.23 \n",
      " 9.756928725906544\n",
      " \n",
      "11.03 x - 11.05 \n",
      " 17.322585042921546\n"
     ]
    }
   ],
   "source": [
    "yy = np.array([-0.13, -0.03, 0.03, 0.19])\n",
    "xx = np.array([0.985, 0.992, 1.002, 1.011])\n",
    "print(np.poly1d(np.polyfit(xx, yy, 1)), \"\\n\", 0.5*np.polyfit(xx, yy, 1)[0]*np.pi)\n",
    "print(np.poly1d(np.polyfit(xx, yy+np.array([0.03, 0.03, -0.03, -0.03]), 1)), \"\\n\", 0.5*np.polyfit(xx, yy+np.array([0.03, 0.03, -0.03, -0.03]), 1)[0]*np.pi)\n",
    "print(np.poly1d(np.polyfit(xx, yy-np.array([0.03, 0.03, -0.03, -0.03]), 1)), \"\\n\", 0.5*np.polyfit(xx, yy-np.array([0.03, 0.03, -0.03, -0.03]), 1)[0]*np.pi)\n",
    "print(\"==============================\")\n",
    "yy = np.array([-0.13, -0.06, 0.03, 0.13])\n",
    "xx = np.array([0.987, 0.996, 1.007, 1.017])\n",
    "print(np.poly1d(np.polyfit(xx, yy, 1)), \"\\n\", 0.5*np.polyfit(xx, yy, 1)[0]*np.pi)\n",
    "print(np.poly1d(np.polyfit(xx, yy+np.array([0.03, 0.03, -0.03, -0.03]), 1)), \"\\n\", 0.5*np.polyfit(xx, yy+np.array([0.03, 0.03, -0.03, -0.03]), 1)[0]*np.pi)\n",
    "print(np.poly1d(np.polyfit(xx, yy-np.array([0.03, 0.03, -0.03, -0.03]), 1)), \"\\n\", 0.5*np.polyfit(xx, yy-np.array([0.03, 0.03, -0.03, -0.03]), 1)[0]*np.pi)"
   ]
  },
  {
   "cell_type": "code",
   "execution_count": 11,
   "metadata": {},
   "outputs": [],
   "source": [
    "data = pd.read_excel('3.2.3.xlsx', sheet_name='Таб')\n",
    "names = list(data)\n",
    "\n",
    "nu0n = data[names[1]][:7]\n",
    "Rl = data[names[10]][:7]\n",
    "\n",
    "fig, ax = plt.subplots(figsize=(10, 6), dpi=100)\n",
    "\n",
    "ax.plot(nu0n, Rl, label=r\"$R_L$\", marker='o')\n",
    "ax.hlines(y=Rl.mean(), xmin=0.6*nu07, xmax=1.1*nu01, color='r', linestyle='--', label=r\"$\\langle R_L \\rangle$\")\n",
    "\n",
    "ax.legend(loc='upper left', fontsize=10)\n",
    "\n",
    "ax.grid(which=\"major\", linewidth=0.5)\n",
    "ax.grid(which=\"minor\", linestyle='--', linewidth=0.25)\n",
    "plt.minorticks_on()\n",
    "\n",
    "ax.axis([0.6*nu07, 1.1*nu01, 0, 4])\n",
    "\n",
    "ax.set_title(r\"График зависимости $R_L(\\nu_{0n})$\", loc='center', fontsize=15)\n",
    "ax.set_xlabel(r\"$\\nu_{0n},\\, кГц$\", loc='center', fontsize=10)\n",
    "ax.set_ylabel(r\"$R_L,\\, Ом$\", loc='center', fontsize=10)\n",
    "\n",
    "plt.show()\n",
    "\n",
    "fig.savefig(\"3.2.3_4.png\", dpi=500)"
   ]
  }
 ],
 "metadata": {
  "kernelspec": {
   "display_name": "Python 3.9.13 ('base')",
   "language": "python",
   "name": "python3"
  },
  "language_info": {
   "codemirror_mode": {
    "name": "ipython",
    "version": 3
   },
   "file_extension": ".py",
   "mimetype": "text/x-python",
   "name": "python",
   "nbconvert_exporter": "python",
   "pygments_lexer": "ipython3",
   "version": "3.9.13"
  },
  "orig_nbformat": 4,
  "vscode": {
   "interpreter": {
    "hash": "e4cce46d6be9934fbd27f9ca0432556941ea5bdf741d4f4d64c6cd7f8dfa8fba"
   }
  }
 },
 "nbformat": 4,
 "nbformat_minor": 2
}
